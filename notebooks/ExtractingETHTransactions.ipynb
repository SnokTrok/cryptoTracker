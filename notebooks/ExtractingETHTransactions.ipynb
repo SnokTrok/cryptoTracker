{
 "cells": [
  {
   "cell_type": "markdown",
   "id": "2179f71a-a5b3-4885-a6e6-60425b361af6",
   "metadata": {},
   "source": [
    "# Etracting Etherium Transactions :\n",
    "\n",
    "- Extracting users and giving them unique integer ID's\n",
    "- Extracting block info and storing\n",
    "- Extracting Transaction Info and storing\n",
    "\n",
    "\n",
    "See : https://docs.infura.io/api/networks/ethereum/json-rpc-methods/eth_getblockbynumber "
   ]
  },
  {
   "cell_type": "code",
   "execution_count": 1,
   "id": "5a82ebd7-d1c0-4ebf-bf2d-fc90e85c9a7b",
   "metadata": {},
   "outputs": [
    {
     "name": "stdout",
     "output_type": "stream",
     "text": [
      "initialising postgres db\n",
      "connecting to winhost:5433\n"
     ]
    }
   ],
   "source": [
    "from cryptoTracker.db.utils import init_pg_db , get_pg_db\n",
    "import pandas as pd\n",
    "from cryptoTracker.orm.etherium import UserInfo, EthereumTransactionHistory, EteriumTransactionBlocks\n",
    "\n",
    "init_pg_db()"
   ]
  },
  {
   "cell_type": "code",
   "execution_count": null,
   "id": "d8577ebc-ae11-4a4e-9214-753e397c1d40",
   "metadata": {},
   "outputs": [],
   "source": []
  }
 ],
 "metadata": {
  "kernelspec": {
   "display_name": "Python 3 (ipykernel)",
   "language": "python",
   "name": "python3"
  },
  "language_info": {
   "codemirror_mode": {
    "name": "ipython",
    "version": 3
   },
   "file_extension": ".py",
   "mimetype": "text/x-python",
   "name": "python",
   "nbconvert_exporter": "python",
   "pygments_lexer": "ipython3",
   "version": "3.10.12"
  }
 },
 "nbformat": 4,
 "nbformat_minor": 5
}
